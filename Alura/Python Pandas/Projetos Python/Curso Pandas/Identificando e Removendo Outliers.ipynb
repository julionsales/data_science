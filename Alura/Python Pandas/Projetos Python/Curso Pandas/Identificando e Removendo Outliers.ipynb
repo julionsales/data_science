{
 "cells": [
  {
   "cell_type": "markdown",
   "id": "c21b3a76-3803-4b1d-8d9e-9549ff4759a4",
   "metadata": {},
   "source": [
    "# Relatório de Ánalises VIII"
   ]
  },
  {
   "cell_type": "markdown",
   "id": "7f92259c-6dbd-4b12-adc3-22431177a22d",
   "metadata": {},
   "source": [
    "## Idenficando e Removendo Outliers"
   ]
  },
  {
   "cell_type": "code",
   "execution_count": null,
   "id": "5c87d5f0-9e97-4769-8cca-2e986f19ed29",
   "metadata": {},
   "outputs": [],
   "source": []
  }
 ],
 "metadata": {
  "kernelspec": {
   "display_name": "Python 3 (ipykernel)",
   "language": "python",
   "name": "python3"
  },
  "language_info": {
   "codemirror_mode": {
    "name": "ipython",
    "version": 3
   },
   "file_extension": ".py",
   "mimetype": "text/x-python",
   "name": "python",
   "nbconvert_exporter": "python",
   "pygments_lexer": "ipython3",
   "version": "3.10.9"
  }
 },
 "nbformat": 4,
 "nbformat_minor": 5
}
